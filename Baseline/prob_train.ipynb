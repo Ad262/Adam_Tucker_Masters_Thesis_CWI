{
 "cells": [
  {
   "cell_type": "code",
   "execution_count": 1,
   "id": "b5169c8e-663c-418f-a146-2d1d9ed86dd1",
   "metadata": {},
   "outputs": [],
   "source": [
    "from sklearn.linear_model import LinearRegression\n",
    "import pandas as pd\n",
    "import pickle\n",
    "\n",
    "def train_classifiers():\n",
    "    # List of feature files and corresponding classifier names\n",
    "    feature_files = [\n",
    "        \"features_NEW/News_Train_NEW_Feats1.pkl\",\n",
    "        \"features_NEW/WikiNews_Train_NEW_Feats1.pkl\",\n",
    "        \"features_NEW/Wikipedia_Train_NEW_Feats1.pkl\",\n",
    "        [\"features_NEW/News_Train_NEW_Feats1.pkl\", \"features_NEW/WikiNews_Train_NEW_Feats1.pkl\", \"features_NEW/Wikipedia_Train_NEW_Feats1.pkl\"]\n",
    "    ]\n",
    "    classifier_names = [\"News_prob_NEW\", \"Wikinews_prob_NEW\", \"Wikipedia_prob_NEW\", \"Combined_prob_NEW\"]\n",
    "    classifiers = []\n",
    "\n",
    "    for feature_file, classifier_name in zip(feature_files, classifier_names):\n",
    "        # Load the word_features DataFrame from the pickle file\n",
    "        if isinstance(feature_file, list):\n",
    "            word_features = pd.concat([pd.read_pickle(f) for f in feature_file])\n",
    "        else:\n",
    "            word_features = pd.read_pickle(feature_file)\n",
    "\n",
    "        # Replace NaN values with 0 in the feature columns\n",
    "        feature_columns = ['syllables', 'characters', 'vowels', 'simple_wiki_freq', 'HIT_count', 'absTotalMatchCount', 'relTotalMatchCount']\n",
    "        word_features[feature_columns] = word_features[feature_columns].fillna(0)\n",
    "\n",
    "        # Extract the features and labels from the word_features DataFrame\n",
    "        X = word_features[feature_columns].values\n",
    "        y = word_features['complex_probabilistic'].values\n",
    "\n",
    "        # Create and train the Linear Regression model\n",
    "        clf = LinearRegression()\n",
    "        clf.fit(X, y)\n",
    "\n",
    "        # Save the trained classifier to a pickle file\n",
    "        with open(f\"lmodel/prob/{classifier_name}.pkl\", 'wb') as file:\n",
    "            pickle.dump(clf, file)\n",
    "\n",
    "        classifiers.append(clf)\n",
    "\n",
    "    return classifiers\n",
    "\n",
    "# Train the classifiers and save them to pickle files\n",
    "classifiers = train_classifiers()\n"
   ]
  },
  {
   "cell_type": "code",
   "execution_count": null,
   "id": "53a2f95b-c2f6-4da1-ab03-e5a279a28c63",
   "metadata": {},
   "outputs": [],
   "source": []
  }
 ],
 "metadata": {
  "kernelspec": {
   "display_name": "Python 3 (ipykernel)",
   "language": "python",
   "name": "python3"
  },
  "language_info": {
   "codemirror_mode": {
    "name": "ipython",
    "version": 3
   },
   "file_extension": ".py",
   "mimetype": "text/x-python",
   "name": "python",
   "nbconvert_exporter": "python",
   "pygments_lexer": "ipython3",
   "version": "3.9.16"
  }
 },
 "nbformat": 4,
 "nbformat_minor": 5
}
